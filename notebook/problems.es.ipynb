{
 "cells": [
  {
   "cell_type": "markdown",
   "id": "d9d036c6",
   "metadata": {},
   "source": [
    "# Problemas de prueba de hipótesis"
   ]
  },
  {
   "cell_type": "markdown",
   "id": "d157c4db",
   "metadata": {},
   "source": [
    "## Ejercicio 1\n",
    "\n",
    "Usted es un nutricionista que investiga dos tipos diferentes de dietas para ver si existe una diferencia significativa en la pérdida de peso después de un mes. Eliges dos grupos aleatorios de personas; un grupo sigue la primera dieta y el otro sigue la segunda. Al final del mes, se registra la pérdida de peso (en kg) de cada persona:\n",
    "\n",
    "| Diet 1 | Diet 2 |\n",
    "|:-------|:-------|\n",
    "| 2.0 | 3.0 |\n",
    "| 2.5 | 3.2 |\n",
    "| 3.0 | 3.1 |\n",
    "| 2.8 | 2.9 |\n",
    "| 2.3 | 2.8 |\n",
    "| 2.7 | 3.0 |\n",
    "| 2.5 | 3.2 |\n",
    "\n",
    "Con estos datos se busca responder a la siguiente pregunta: ¿Existe una diferencia significativa en la pérdida de peso promedio entre las personas que siguieron la primera dieta y las que siguieron la segunda dieta?\n",
    "\n",
    "Para sacar conclusiones, siga los siguientes puntos:\n",
    "\n",
    "-Enunciar la hipótesis: hipótesis nula y alternativa.\n",
    "-Realizar la prueba para comprobar la hipótesis. Puede utilizar la prueba t de Student.\n",
    "-Analizar las conclusiones."
   ]
  },
  {
   "cell_type": "markdown",
   "id": "784f8daa",
   "metadata": {},
   "source": [
    "# Las hipótesis para el análisis son:\n",
    "\n",
    "1) Hipótesis nula (H_0): No hay diferencia significativa en la pérdida de peso promedio entre las personas que siguieron la Dieta 1 y las que siguieron la Dieta 2. Es decir, ambas dietas tienen el mismo efecto.\n",
    "2) Hipótesis alternativa (H_1): Existe una diferencia significativa en la pérdida de peso promedio entre las dos dietas.\n",
    "\n",
    "Si el valor p de la prueba t es menor que 0.05, rechazamos la hipótesis nula y concluimos que hay una diferencia significativa entre las dietas."
   ]
  },
  {
   "cell_type": "code",
   "execution_count": 6,
   "id": "8e0f3cf0",
   "metadata": {},
   "outputs": [
    {
     "name": "stdout",
     "output_type": "stream",
     "text": [
      "Media Dieta 1: 2.54 kg\n",
      "Media Dieta 2: 3.03 kg\n",
      "Desviación Estándar Dieta 1: 0.33\n",
      "Desviación Estándar Dieta 2: 0.15\n",
      "Estadístico t: -3.5383\n",
      "Valor p: 0.0041\n",
      "Rechazamos la hipótesis nula: Existe una diferencia significativa en la pérdida de peso entre las dos dietas.\n"
     ]
    }
   ],
   "source": [
    "import numpy as np\n",
    "from scipy import stats\n",
    "\n",
    "# Datos de pérdida de peso\n",
    "diet_1 = np.array([2.0, 2.5, 3.0, 2.8, 2.3, 2.7, 2.5])\n",
    "diet_2 = np.array([3.0, 3.2, 3.1, 2.9, 2.8, 3.0, 3.2])\n",
    "\n",
    "# Prueba t de Student para muestras independientes\n",
    "t_stat, p_value = stats.ttest_ind(diet_1, diet_2, equal_var=True)\n",
    "\n",
    "# Promedios de cada dieta\n",
    "mean_diet_1 = np.mean(diet_1)\n",
    "mean_diet_2 = np.mean(diet_2)\n",
    "\n",
    "# Desviaciones estándar\n",
    "std_diet_1 = np.std(diet_1, ddof=1)\n",
    "std_diet_2 = np.std(diet_2, ddof=1)\n",
    "\n",
    "# Resultados\n",
    "print(f\"Media Dieta 1: {mean_diet_1:.2f} kg\")\n",
    "print(f\"Media Dieta 2: {mean_diet_2:.2f} kg\")\n",
    "print(f\"Desviación Estándar Dieta 1: {std_diet_1:.2f}\")\n",
    "print(f\"Desviación Estándar Dieta 2: {std_diet_2:.2f}\")\n",
    "print(f\"Estadístico t: {t_stat:.4f}\")\n",
    "print(f\"Valor p: {p_value:.4f}\")\n",
    "\n",
    "# Interpretación del resultado\n",
    "alpha = 0.05\n",
    "if p_value < alpha:\n",
    "    print(\"Rechazamos la hipótesis nula: Existe una diferencia significativa en la pérdida de peso entre las dos dietas.\")\n",
    "else:\n",
    "    print(\"No se rechaza la hipótesis nula: No hay suficiente evidencia para afirmar que hay una diferencia en la pérdida de peso entre las dos dietas.\")\n"
   ]
  },
  {
   "cell_type": "markdown",
   "id": "f432e18e",
   "metadata": {},
   "source": [
    "## ANOVA\n",
    "\n",
    "**ANOVA** (*Analysis of Variance - Análisis de variación*) Es una técnica estadística utilizada para comparar las medidas de dos o más grupos. La idea detrás de ANOVA es descomponer la variabilidad total de los datos en dos componentes: variabilidad entre grupos y variabilidad dentro de los grupos:\n",
    "\n",
    "- **Variabilidad entre grupos**: Esta variabilidad se refiere a las diferencias entre las medias del grupo. Si esta variabilidad es considerablemente mayor que la variabilidad dentro del grupo, podría ser una indicación de que al menos una de las medias del grupo es diferente.\n",
    "- **Variabilidad dentro del grupo**: Esta variabilidad se refiere a la dispersión de los datos dentro de cada grupo. Si todos los grupos tienen una variabilidad similar, entonces cualquier diferencia notable en las medias de los grupos podría considerarse significativa.\n",
    "\n",
    "Las hipótesis en ANOVA suelen incluir:\n",
    "\n",
    "- **Hipótesis nula** ($H₀$): Las medias de todos los grupos son iguales.\n",
    "- **Hipótesis alternativa** ($H₁$): Al menos una de las medias del grupo es diferente.\n",
    "\n",
    "Si el resultado de la prueba ANOVA es significativo (por ejemplo, un valor p inferior a un umbral como 0,05), esto sugiere que al menos la media de un grupo es diferente."
   ]
  },
  {
   "cell_type": "markdown",
   "id": "fc5f3721",
   "metadata": {},
   "source": [
    "## Ejercicio 2\n",
    "\n",
    "Un agricultor decide probar tres tipos diferentes de fertilizantes para determinar si alguno es superior en términos de producción de maíz. El agricultor planta maíz en 15 parcelas idénticas y utiliza los tres fertilizantes (5 parcelas para cada tipo). Al final de la temporada mide el rendimiento de maíz (en kg) de cada parcela, con el siguiente resultado:\n",
    "\n",
    "| Fertilizante 1 | Fertilizante 2 | Fertilizante 3 |\n",
    "|:-------------|:-------------|:-------------|\n",
    "| 20 | 22 | 24 |\n",
    "| 21 | 21 | 23 |\n",
    "| 20 | 23 | 22 |\n",
    "| 19 | 22 | 23 |\n",
    "| 20 | 21 | 24 |\n",
    "\n",
    "Con estos datos busca responder la siguiente pregunta: ¿Existe una diferencia significativa en el rendimiento promedio del maíz entre los tres tipos de fertilizantes?\n",
    "\n",
    "Para ayudarte, sigue los siguientes puntos:\n",
    "\n",
    "-Enunciar la hipótesis: hipótesis nula y alternativa.\n",
    "-Realizar la prueba ANOVA.\n",
    "-Analizar las conclusiones.\n",
    "-Si un fertilizante es mejor que otro, ¿cómo podemos saberlo?"
   ]
  },
  {
   "cell_type": "markdown",
   "id": "d99c6078",
   "metadata": {},
   "source": [
    "# Las hipótesis para el análisis ANOVA son:\n",
    "\n",
    "1) Hipótesis nula (H_0): No hay diferencias significativas en el rendimiento promedio del maíz entre los tres tipos de fertilizantes. Es decir, todas las medias son iguales.\n",
    "2) Hipótesis alternativa (H_1): Al menos un fertilizante tiene un rendimiento promedio significativamente diferente de los demás.\n",
    "\n",
    "Si el valor p de la prueba ANOVA es menor que 0.05, rechazamos la hipótesis nula y concluimos que hay diferencias entre los fertilizantes. Luego, utilizamos la prueba de Tukey para identificar qué fertilizantes presentan diferencias significativas."
   ]
  },
  {
   "cell_type": "code",
   "execution_count": 7,
   "id": "eecad0ca",
   "metadata": {},
   "outputs": [
    {
     "name": "stdout",
     "output_type": "stream",
     "text": [
      "\n",
      "Resultados de la prueba ANOVA:\n",
      "Estadístico F: 20.3158\n",
      "Valor p: 0.0001\n",
      "Conclusión: Rechazamos la hipótesis nula. Al menos un fertilizante tiene un rendimiento significativamente diferente.\n",
      "\n",
      "Resultados de la prueba de Tukey:\n",
      "       Multiple Comparison of Means - Tukey HSD, FWER=0.05        \n",
      "==================================================================\n",
      "    group1         group2     meandiff p-adj  lower  upper  reject\n",
      "------------------------------------------------------------------\n",
      "Fertilizante 1 Fertilizante 2      1.8 0.0099 0.4572 3.1428   True\n",
      "Fertilizante 1 Fertilizante 3      3.2 0.0001 1.8572 4.5428   True\n",
      "Fertilizante 2 Fertilizante 3      1.4 0.0409 0.0572 2.7428   True\n",
      "------------------------------------------------------------------\n",
      "\n",
      "Conclusión de la prueba de Tukey:\n",
      "Si hay diferencias significativas, se pueden observar en los valores de p y los intervalos de confianza mostrados arriba.\n"
     ]
    }
   ],
   "source": [
    "from scipy.stats import f_oneway\n",
    "from statsmodels.stats.multicomp import pairwise_tukeyhsd\n",
    "\n",
    "# Datos de rendimiento de maíz para cada fertilizante\n",
    "fertilizer_1 = [20, 21, 20, 19, 20]\n",
    "fertilizer_2 = [22, 21, 23, 22, 21]\n",
    "fertilizer_3 = [24, 23, 22, 23, 24]\n",
    "\n",
    "# Prueba ANOVA de una vía\n",
    "f_stat, p_value_anova = f_oneway(fertilizer_1, fertilizer_2, fertilizer_3)\n",
    "\n",
    "print(\"\\nResultados de la prueba ANOVA:\")\n",
    "print(f\"Estadístico F: {f_stat:.4f}\")\n",
    "print(f\"Valor p: {p_value_anova:.4f}\")\n",
    "\n",
    "# Interpretación de ANOVA\n",
    "alpha = 0.05\n",
    "if p_value_anova < alpha:\n",
    "    print(\"Conclusión: Rechazamos la hipótesis nula. Al menos un fertilizante tiene un rendimiento significativamente diferente.\\n\")\n",
    "else:\n",
    "    print(\"Conclusión: No se rechaza la hipótesis nula. No hay evidencia suficiente para afirmar que los fertilizantes tienen rendimientos diferentes.\\n\")\n",
    "\n",
    "# Prueba de Tukey para comparaciones múltiples\n",
    "data = fertilizer_1 + fertilizer_2 + fertilizer_3\n",
    "groups = ['Fertilizante 1']*5 + ['Fertilizante 2']*5 + ['Fertilizante 3']*5\n",
    "tukey_results = pairwise_tukeyhsd(data, groups, alpha=0.05)\n",
    "\n",
    "print(\"Resultados de la prueba de Tukey:\")\n",
    "print(tukey_results)\n",
    "\n",
    "# Interpretación de Tukey\n",
    "print(\"\\nConclusión de la prueba de Tukey:\")\n",
    "print(\"Si hay diferencias significativas, se pueden observar en los valores de p y los intervalos de confianza mostrados arriba.\")\n",
    "\n"
   ]
  }
 ],
 "metadata": {
  "kernelspec": {
   "display_name": "Python 3",
   "language": "python",
   "name": "python3"
  },
  "language_info": {
   "codemirror_mode": {
    "name": "ipython",
    "version": 3
   },
   "file_extension": ".py",
   "mimetype": "text/x-python",
   "name": "python",
   "nbconvert_exporter": "python",
   "pygments_lexer": "ipython3",
   "version": "3.11.4"
  }
 },
 "nbformat": 4,
 "nbformat_minor": 5
}
